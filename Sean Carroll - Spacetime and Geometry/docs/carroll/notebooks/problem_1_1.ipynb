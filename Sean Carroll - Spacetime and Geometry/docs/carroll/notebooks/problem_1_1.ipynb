{
 "cells": [
  {
   "cell_type": "code",
   "execution_count": 2,
   "metadata": {},
   "outputs": [
    {
     "name": "stdout",
     "output_type": "stream",
     "text": [
      "Let the velocity of the ball be u:\n"
     ]
    },
    {
     "data": {
      "text/latex": [
       "$\\displaystyle \\left[\\begin{matrix}u_{x}\\\\u_{y}\\\\0\\end{matrix}\\right]$"
      ],
      "text/plain": [
       "⎡uₓ ⎤\n",
       "⎢   ⎥\n",
       "⎢u_y⎥\n",
       "⎢   ⎥\n",
       "⎣ 0 ⎦"
      ]
     },
     "execution_count": 2,
     "metadata": {},
     "output_type": "execute_result"
    }
   ],
   "source": [
    "from sympy import *\n",
    "init_printing()\n",
    "\n",
    "def velocity_to_fourvelocity(v):\n",
    "\tvx = v[0,0]\n",
    "\tvy = v[1, 0]\n",
    "\tvz = v[2, 0]\n",
    "\tmod_v = sqrt(vx**2 + vy**2 + vz**2)\n",
    "\tgamma = 1 / sqrt(1 - mod_v**2)\n",
    "\treturn Matrix([gamma, gamma*vx, gamma*vy, gamma*vz])\n",
    "\n",
    "def fourvelocity_to_velocity(f):\n",
    "\tgamma = f[0, 0]\n",
    "\treturn Matrix([f[1, 0] / gamma, f[2, 0] / gamma, f[3, 0] / gamma])\n",
    "\n",
    "def scalar(u, v):\n",
    "\treturn simplify(u[0, 0]*v[0, 0] + u[1, 0]*v[1, 0] + u[2, 0]*v[2, 0])\n",
    "\n",
    "def modulo(v):\n",
    "\treturn simplify(sqrt(scalar(v, v)))\n",
    "\n",
    "def cross(u, v):\n",
    "\treturn Matrix([\n",
    "\t\t+ u[1, 0]*v[2, 0] - u[2, 0]*v[1, 0],\n",
    "\t\t- u[0, 0]*v[2, 0] + u[2, 0]*v[0, 0],\n",
    "\t\t+ u[0, 0]*v[1, 0] - u[1, 0]*v[0, 0],\n",
    "\t])\n",
    "\n",
    "def cosine(u, v):\n",
    "\treturn scalar(u, v) / (modulo(u) * modulo(v))\n",
    "\n",
    "\n",
    "\n",
    "def sine(u, v):\n",
    "\treturn simplify(modulo(cross(u, v)) / (modulo(u) * modulo(v)))\n",
    "\n",
    "def tangent_on_xy(u, v):\n",
    "\tassert u[2, 0] == v[2, 0] == 0\n",
    "\treturn simplify((u[0, 0]*v[1, 0] - u[1, 0]*v[0, 0] )/ scalar(u, v))\n",
    "\n",
    "t, x, y, z = symbols(\"t, x, y, z\", real=True)\n",
    "v, ux, uy = symbols(\"v, u_x, u_y\", real=True)\n",
    "gamma = symbols(\"gamma\", real=True)\n",
    "gamma_u = symbols(\"gamma_u\", real=True)\n",
    "\n",
    "n = Matrix([ 1, gamma, 0 ])\n",
    "\n",
    "u = Matrix([ ux, uy, 0])\n",
    "print(\"Let the velocity of the ball be u:\")\n",
    "u"
   ]
  },
  {
   "cell_type": "code",
   "execution_count": 3,
   "metadata": {},
   "outputs": [
    {
     "name": "stdout",
     "output_type": "stream",
     "text": [
      "It's four-velocity is u^\\mu =\n"
     ]
    },
    {
     "data": {
      "text/latex": [
       "$\\displaystyle \\left[\\begin{matrix}\\gamma_{u}\\\\\\gamma_{u} u_{x}\\\\\\gamma_{u} u_{y}\\\\0\\end{matrix}\\right]$"
      ],
      "text/plain": [
       "⎡  γᵤ  ⎤\n",
       "⎢      ⎥\n",
       "⎢γᵤ⋅uₓ ⎥\n",
       "⎢      ⎥\n",
       "⎢γᵤ⋅u_y⎥\n",
       "⎢      ⎥\n",
       "⎣  0   ⎦"
      ]
     },
     "execution_count": 3,
     "metadata": {},
     "output_type": "execute_result"
    }
   ],
   "source": [
    "fu = velocity_to_fourvelocity(u)\n",
    "print(\"It's four-velocity is u^\\mu =\")\n",
    "fu = fu.subs(1 / sqrt(1 - ux**2 - uy**2), gamma_u)\n",
    "fu"
   ]
  },
  {
   "cell_type": "code",
   "execution_count": 4,
   "metadata": {},
   "outputs": [
    {
     "name": "stdout",
     "output_type": "stream",
     "text": [
      "In S' the four-velocity is\n"
     ]
    },
    {
     "data": {
      "text/latex": [
       "$\\displaystyle \\left[\\begin{matrix}\\gamma \\gamma_{u} \\left(- u_{y} v + 1\\right)\\\\\\gamma_{u} u_{x}\\\\\\gamma \\gamma_{u} \\left(u_{y} - v\\right)\\\\0\\end{matrix}\\right]$"
      ],
      "text/plain": [
       "⎡γ⋅γᵤ⋅(-u_y⋅v + 1)⎤\n",
       "⎢                 ⎥\n",
       "⎢      γᵤ⋅uₓ      ⎥\n",
       "⎢                 ⎥\n",
       "⎢ γ⋅γᵤ⋅(u_y - v)  ⎥\n",
       "⎢                 ⎥\n",
       "⎣        0        ⎦"
      ]
     },
     "execution_count": 4,
     "metadata": {},
     "output_type": "execute_result"
    }
   ],
   "source": [
    "L = Matrix([\n",
    "\t[gamma, 0, -gamma * v, 0],\n",
    "\t[0, 1, 0, 0],\n",
    "\t[-gamma*v, 0, gamma, 0],\n",
    "\t[0, 0, 0, 1]\n",
    "])\n",
    "invL = L**-1\n",
    "\n",
    "fu_prime = simplify(L * fu)\n",
    "print(\"In S' the four-velocity is\")\n",
    "fu_prime"
   ]
  },
  {
   "cell_type": "code",
   "execution_count": 5,
   "metadata": {},
   "outputs": [
    {
     "name": "stdout",
     "output_type": "stream",
     "text": [
      "It corresponds to a regular velocity (seen by S')\n"
     ]
    },
    {
     "data": {
      "text/latex": [
       "$\\displaystyle \\left[\\begin{matrix}\\frac{u_{x}}{\\gamma \\left(- u_{y} v + 1\\right)}\\\\\\frac{u_{y} - v}{- u_{y} v + 1}\\\\0\\end{matrix}\\right]$"
      ],
      "text/plain": [
       "⎡      uₓ      ⎤\n",
       "⎢──────────────⎥\n",
       "⎢γ⋅(-u_y⋅v + 1)⎥\n",
       "⎢              ⎥\n",
       "⎢   u_y - v    ⎥\n",
       "⎢  ──────────  ⎥\n",
       "⎢  -u_y⋅v + 1  ⎥\n",
       "⎢              ⎥\n",
       "⎣      0       ⎦"
      ]
     },
     "execution_count": 5,
     "metadata": {},
     "output_type": "execute_result"
    }
   ],
   "source": [
    "u_prime = fourvelocity_to_velocity(fu_prime)\n",
    "print(\"It corresponds to a regular velocity (seen by S')\")\n",
    "u_prime"
   ]
  },
  {
   "cell_type": "code",
   "execution_count": 6,
   "metadata": {},
   "outputs": [
    {
     "name": "stdout",
     "output_type": "stream",
     "text": [
      "After the ball hit the wall, it is reflected with velocity (seen by S')\n"
     ]
    },
    {
     "data": {
      "text/latex": [
       "$\\displaystyle \\left[\\begin{matrix}- \\frac{u_{y} - v}{- u_{y} v + 1}\\\\- \\frac{u_{x}}{\\gamma \\left(- u_{y} v + 1\\right)}\\\\0\\end{matrix}\\right]$"
      ],
      "text/plain": [
       "⎡ -(u_y - v)   ⎤\n",
       "⎢ ───────────  ⎥\n",
       "⎢  -u_y⋅v + 1  ⎥\n",
       "⎢              ⎥\n",
       "⎢     -uₓ      ⎥\n",
       "⎢──────────────⎥\n",
       "⎢γ⋅(-u_y⋅v + 1)⎥\n",
       "⎢              ⎥\n",
       "⎣      0       ⎦"
      ]
     },
     "execution_count": 6,
     "metadata": {},
     "output_type": "execute_result"
    }
   ],
   "source": [
    "w_prime = Matrix([ -u_prime[1, 0], -u_prime[0, 0], u_prime[2, 0]])\n",
    "print(\"After the ball hit the wall, it is reflected with velocity (seen by S')\")\n",
    "w_prime"
   ]
  },
  {
   "cell_type": "code",
   "execution_count": 7,
   "metadata": {},
   "outputs": [
    {
     "name": "stdout",
     "output_type": "stream",
     "text": [
      "Which correspond to a four-velocity (seen by S')\n"
     ]
    },
    {
     "data": {
      "text/latex": [
       "$\\displaystyle \\left[\\begin{matrix}\\gamma \\gamma_{u} \\left(- u_{y} v + 1\\right)\\\\\\gamma \\gamma_{u} \\left(- u_{y} + v\\right)\\\\- \\gamma_{u} u_{x}\\\\0\\end{matrix}\\right]$"
      ],
      "text/plain": [
       "⎡γ⋅γᵤ⋅(-u_y⋅v + 1)⎤\n",
       "⎢                 ⎥\n",
       "⎢ γ⋅γᵤ⋅(-u_y + v) ⎥\n",
       "⎢                 ⎥\n",
       "⎢     -γᵤ⋅uₓ      ⎥\n",
       "⎢                 ⎥\n",
       "⎣        0        ⎦"
      ]
     },
     "execution_count": 7,
     "metadata": {},
     "output_type": "execute_result"
    }
   ],
   "source": [
    "fw_prime = velocity_to_fourvelocity(w_prime)\n",
    "print(\"Which correspond to a four-velocity (seen by S')\")\n",
    "A, B, unorm = symbols(\"A, B, u\", positive=True)\n",
    "fw_prime = fw_prime.subs(-uy*v + 1, A)\n",
    "fw_prime = fw_prime.subs(gamma, 1/sqrt(1 - v**2))\n",
    "fw_prime = simplify(fw_prime).expand()\n",
    "fw_prime = fw_prime.subs(A, -uy*v + 1)\n",
    "fw_prime = simplify(fw_prime.expand())\n",
    "fw_prime = fw_prime.subs(ux**2, unorm**2 - uy**2)\n",
    "fw_prime = simplify(fw_prime)\n",
    "fw_prime = fw_prime.subs(unorm**2, 1-B)\n",
    "fw_prime = simplify(fw_prime)\n",
    "fw_prime = fw_prime.subs(B, 1-unorm**2)\n",
    "fw_prime = fw_prime.subs(sqrt(1 - v**2), 1/gamma)\n",
    "fw_prime = fw_prime.subs(sqrt(1 - unorm**2), 1/gamma_u)\n",
    "\n",
    "fw_prime"
   ]
  },
  {
   "cell_type": "code",
   "execution_count": 8,
   "metadata": {},
   "outputs": [
    {
     "name": "stdout",
     "output_type": "stream",
     "text": [
      "That same four-velocity seen by S is\n"
     ]
    },
    {
     "data": {
      "text/latex": [
       "$\\displaystyle \\left[\\begin{matrix}- \\gamma \\gamma_{u} \\left(\\gamma \\left(u_{y} v - 1\\right) + u_{x} v\\right)\\\\\\gamma \\gamma_{u} \\left(- u_{y} + v\\right)\\\\- \\gamma \\gamma_{u} \\left(\\gamma v \\left(u_{y} v - 1\\right) + u_{x}\\right)\\\\0\\end{matrix}\\right]$"
      ],
      "text/plain": [
       "⎡-γ⋅γᵤ⋅(γ⋅(u_y⋅v - 1) + uₓ⋅v)⎤\n",
       "⎢                            ⎥\n",
       "⎢      γ⋅γᵤ⋅(-u_y + v)       ⎥\n",
       "⎢                            ⎥\n",
       "⎢-γ⋅γᵤ⋅(γ⋅v⋅(u_y⋅v - 1) + uₓ)⎥\n",
       "⎢                            ⎥\n",
       "⎣             0              ⎦"
      ]
     },
     "execution_count": 8,
     "metadata": {},
     "output_type": "execute_result"
    }
   ],
   "source": [
    "fw = invL * fw_prime\n",
    "print(\"That same four-velocity seen by S is\")\n",
    "fw = simplify(fw)\n",
    "fw = fw.subs(1 - v**2, 1/gamma**2)\n",
    "fw"
   ]
  },
  {
   "cell_type": "code",
   "execution_count": 9,
   "metadata": {},
   "outputs": [
    {
     "name": "stdout",
     "output_type": "stream",
     "text": [
      "And it correspond to a velocity\n"
     ]
    },
    {
     "data": {
      "text/latex": [
       "$\\displaystyle \\left[\\begin{matrix}\\frac{u_{y} - v}{\\gamma \\left(u_{y} v - 1\\right) + u_{x} v}\\\\\\frac{\\gamma v \\left(u_{y} v - 1\\right) + u_{x}}{\\gamma \\left(u_{y} v - 1\\right) + u_{x} v}\\\\0\\end{matrix}\\right]$"
      ],
      "text/plain": [
       "⎡      u_y - v       ⎤\n",
       "⎢────────────────────⎥\n",
       "⎢γ⋅(u_y⋅v - 1) + uₓ⋅v⎥\n",
       "⎢                    ⎥\n",
       "⎢γ⋅v⋅(u_y⋅v - 1) + uₓ⎥\n",
       "⎢────────────────────⎥\n",
       "⎢γ⋅(u_y⋅v - 1) + uₓ⋅v⎥\n",
       "⎢                    ⎥\n",
       "⎣         0          ⎦"
      ]
     },
     "execution_count": 9,
     "metadata": {},
     "output_type": "execute_result"
    }
   ],
   "source": [
    "\n",
    "w = fourvelocity_to_velocity(fw)\n",
    "w = simplify(w)\n",
    "print(\"And it correspond to a velocity\")\n",
    "w"
   ]
  },
  {
   "cell_type": "code",
   "execution_count": 20,
   "metadata": {},
   "outputs": [
    {
     "name": "stdout",
     "output_type": "stream",
     "text": [
      "\\frac{\\gamma u_{y} + u_{x}}{\\gamma \\left(- \\gamma^{2} u_{y} + \\gamma^{2} v - \\gamma u_{x} + v\\right)}\n"
     ]
    }
   ],
   "source": [
    "tan_in = simplify(tangent_on_xy(-u, n))\n",
    "tan_out = simplify(tangent_on_xy(w, n))\n",
    "ratio = simplify(tan_out / tan_in).expand()\n",
    "ratio = ratio.subs(v**2, 1 - 1/gamma**2)\n",
    "ratio = simplify(ratio)\n",
    "# ratio.factor(1 - v**2)\n",
    "print(latex(ratio))"
   ]
  }
 ],
 "metadata": {
  "kernelspec": {
   "display_name": "Python 3",
   "language": "python",
   "name": "python3"
  },
  "language_info": {
   "codemirror_mode": {
    "name": "ipython",
    "version": 3
   },
   "file_extension": ".py",
   "mimetype": "text/x-python",
   "name": "python",
   "nbconvert_exporter": "python",
   "pygments_lexer": "ipython3",
   "version": "3.9.17"
  }
 },
 "nbformat": 4,
 "nbformat_minor": 2
}
